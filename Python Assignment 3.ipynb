{
 "cells": [
  {
   "cell_type": "markdown",
   "id": "fe48589c-02d3-42b4-8f9d-a80bba7d1f00",
   "metadata": {},
   "source": [
    "Letter of Employment"
   ]
  },
  {
   "cell_type": "code",
   "execution_count": 1,
   "id": "bec0cd2b-6847-4384-be92-8fc5815f428f",
   "metadata": {},
   "outputs": [
    {
     "name": "stdin",
     "output_type": "stream",
     "text": [
      "Enter Candidate Name lakshay\n",
      "Enter Position java developer\n",
      "Enter Address ghaziabad\n",
      "Enter Date of joining 08-08-2025\n",
      "Enter Total Package 10 LPA\n",
      "Enter E-mail address lakshay.f5@gmail.com\n",
      "Enter HR Name lakshika\n"
     ]
    },
    {
     "name": "stdout",
     "output_type": "stream",
     "text": [
      "ghaziabad\n",
      "\n",
      "Dear lakshay,\n",
      "\n",
      "Subject: Offer of Employment for the position of java developer\n",
      "\n",
      "We are delighted to extend this formal offer of employment to you for the position of java developer at our organization.Based on your \n",
      "qualifications and the skills you demonstrated during the recruitment process, we are confident that you will be a valuable addition to our\n",
      "team.\n",
      "\n",
      "As discussed, your expected date of joining is 08-08-2025. Your total compensation package will be 10 LPA, which includes all salary \n",
      "components as per the company’s policy. Further details regarding your compensation will be provided in your employment contract.\n",
      "\n",
      "We expect you to bring your best efforts to help the company achieve its goals, and we are committed to supporting your professional growth\n",
      "during your time with us.\n",
      "\n",
      "Please confirm your acceptance of this offer by sending an email to lakshay.f5@gmail.com at your earliest convenience. Should you have any\n",
      "queries regarding this offer, feel free to reach out to us.\n",
      "\n",
      "We look forward to having you onboard and are excited about the great things we can accomplish together.\n",
      "\n",
      "Sincerely,\n",
      "\n",
      "lakshika\n",
      "HR Manager\n"
     ]
    }
   ],
   "source": [
    "Candidate_name=input(\"Enter Candidate Name\")\n",
    "Position=input(\"Enter Position\")\n",
    "Address=input(\"Enter Address\")\n",
    "DOJ=input(\"Enter Date of joining\")\n",
    "Package=input(\"Enter Total Package\")\n",
    "E_mail=input(\"Enter E-mail address\")\n",
    "HR_name=input(\"Enter HR Name\")\n",
    "\n",
    "content=f\"\"\"{Address}\n",
    "\n",
    "Dear {Candidate_name},\n",
    "\n",
    "Subject: Offer of Employment for the position of {Position}\n",
    "\n",
    "We are delighted to extend this formal offer of employment to you for the position of {Position} at our organization.Based on your \n",
    "qualifications and the skills you demonstrated during the recruitment process, we are confident that you will be a valuable addition to our\n",
    "team.\n",
    "\n",
    "As discussed, your expected date of joining is {DOJ}. Your total compensation package will be {Package}, which includes all salary \n",
    "components as per the company’s policy. Further details regarding your compensation will be provided in your employment contract.\n",
    "\n",
    "We expect you to bring your best efforts to help the company achieve its goals, and we are committed to supporting your professional growth\n",
    "during your time with us.\n",
    "\n",
    "Please confirm your acceptance of this offer by sending an email to {E_mail} at your earliest convenience. Should you have any\n",
    "queries regarding this offer, feel free to reach out to us.\n",
    "\n",
    "We look forward to having you onboard and are excited about the great things we can accomplish together.\n",
    "\n",
    "Sincerely,\n",
    "\n",
    "{HR_name}\n",
    "HR Manager\"\"\"\n",
    "print(content)\n"
   ]
  },
  {
   "cell_type": "code",
   "execution_count": null,
   "id": "b92450e6-817b-4718-acb4-edc60febfeb6",
   "metadata": {},
   "outputs": [],
   "source": []
  }
 ],
 "metadata": {
  "kernelspec": {
   "display_name": "Python [conda env:base] *",
   "language": "python",
   "name": "conda-base-py"
  },
  "language_info": {
   "codemirror_mode": {
    "name": "ipython",
    "version": 3
   },
   "file_extension": ".py",
   "mimetype": "text/x-python",
   "name": "python",
   "nbconvert_exporter": "python",
   "pygments_lexer": "ipython3",
   "version": "3.13.5"
  }
 },
 "nbformat": 4,
 "nbformat_minor": 5
}
