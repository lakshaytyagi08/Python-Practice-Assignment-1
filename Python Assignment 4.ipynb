{
 "cells": [
  {
   "cell_type": "markdown",
   "id": "903ed3a9-529f-4468-a683-68fb649d44d3",
   "metadata": {},
   "source": [
    "IF-ELSE PRACTICE QUESTIONS"
   ]
  },
  {
   "cell_type": "code",
   "execution_count": 2,
   "id": "5c513280-612a-4a95-b429-0e0888ef9e22",
   "metadata": {},
   "outputs": [
    {
     "name": "stdin",
     "output_type": "stream",
     "text": [
      "Enter the units of Electricity bill: 250\n"
     ]
    },
    {
     "name": "stdout",
     "output_type": "stream",
     "text": [
      "Your Electricity bill is ₹ 1000\n"
     ]
    }
   ],
   "source": [
    "#Program to calculate the electricity bill using only if statement.\n",
    "#Successfully Executed.\n",
    "a=int(input(\"Enter the units of Electricity bill:\"))\n",
    "if a<=100:\n",
    "    print(\"No Charge\")\n",
    "elif a>100 and a<=200:\n",
    "    b=a-100\n",
    "    c=b*5\n",
    "    print(\"Your Electricity bill is ₹\",c)\n",
    "elif a>200:\n",
    "    d=a-200\n",
    "    e=d*10+500\n",
    "    print(\"Your Electricity bill is ₹\",e)"
   ]
  },
  {
   "cell_type": "code",
   "execution_count": 5,
   "id": "012b35bd-f8b2-4381-aecf-bc8509c52b1e",
   "metadata": {},
   "outputs": [
    {
     "name": "stdin",
     "output_type": "stream",
     "text": [
      "Enter the marks: 95\n"
     ]
    },
    {
     "name": "stdout",
     "output_type": "stream",
     "text": [
      "A Grade\n"
     ]
    }
   ],
   "source": [
    "#Write a program to accept percentage from the user and display the grade according to the  criteria.\n",
    "#Successfully Executed. \n",
    "marks=int(input(\"Enter the marks:\"))\n",
    "if marks>90:\n",
    "    print(\"A Grade\")\n",
    "elif marks>80 and marks<=90:\n",
    "    print(\"B Grade\")\n",
    "elif marks>=60 and marks<=80:\n",
    "    print(\"C Grade\")\n",
    "elif marks<60:\n",
    "    print(\"D Grade\")"
   ]
  },
  {
   "cell_type": "code",
   "execution_count": 5,
   "id": "fb7aa2ec-97ba-48c0-ae89-b7b4bfa1f830",
   "metadata": {},
   "outputs": [
    {
     "name": "stdin",
     "output_type": "stream",
     "text": [
      "Enter the age of First Person: 15\n",
      "Enter the age of Second Person: 16\n",
      "Enter the age of Third Person: 17\n",
      "Enter the age of Fourth Person: 18\n"
     ]
    },
    {
     "name": "stdout",
     "output_type": "stream",
     "text": [
      "A is younger\n"
     ]
    }
   ],
   "source": [
    "#Program to enter the age of 4 people and display the youngest one.\n",
    "#Successfully Executed\n",
    "a=int(input(\"Enter the age of First Person:\"))\n",
    "b=int(input(\"Enter the age of Second Person:\"))\n",
    "c=int(input(\"Enter the age of Third Person:\"))\n",
    "d=int(input(\"Enter the age of Fourth Person:\"))\n",
    "if a<b and a<c and a<d:\n",
    "    print(\"A is younger\")\n",
    "elif b<a and b<c and b<d:\n",
    "    print(\"B is younger\")\n",
    "elif c<a and c<b and c<d:\n",
    "    print(\"C is younger\")\n",
    "elif d<a and d<b and d<c:\n",
    "    print(\"D is younger\")\n",
    "else:\n",
    "    print(\"None\")"
   ]
  },
  {
   "cell_type": "code",
   "execution_count": 4,
   "id": "bfb606b0-3fd0-4fb9-999b-bedeaf52650e",
   "metadata": {},
   "outputs": [
    {
     "name": "stdin",
     "output_type": "stream",
     "text": [
      "Enter the Salary: 100000\n",
      "Enter the Years of Service: 11\n"
     ]
    },
    {
     "name": "stdout",
     "output_type": "stream",
     "text": [
      "Net Bonus Amount is: 10000.0\n"
     ]
    }
   ],
   "source": [
    "#Program to calculate the net bonus amount by entering the salary and years of Service of the user.\n",
    "#Successfully Executed.\n",
    "a=int(input(\"Enter the Salary:\"))\n",
    "b=int(input(\"Enter the Years of Service:\"))\n",
    "if b<6:\n",
    "    c=a*5/100\n",
    "    print(\"Net Bonus Amount is:\",c)\n",
    "elif b>=6 and b<=10:\n",
    "    d=a*8/100\n",
    "    print(\"Net Bonus Amount is:\",d)\n",
    "elif b>10:\n",
    "    e=a*10/100\n",
    "    print(\"Net Bonus Amount is:\",e)"
   ]
  },
  {
   "cell_type": "code",
   "execution_count": 2,
   "id": "f92dda84-78a6-45d6-ad5a-d2bb9d6875cd",
   "metadata": {},
   "outputs": [
    {
     "name": "stdin",
     "output_type": "stream",
     "text": [
      "Enter First Number: 78\n",
      "Enter Second Number: 84\n",
      "Enter Third Number: 54\n"
     ]
    },
    {
     "name": "stdout",
     "output_type": "stream",
     "text": [
      "78 is the Second Largest Number\n"
     ]
    }
   ],
   "source": [
    "#Program to enter three numbers from the user and display the second largest number.\n",
    "#Successfully Executed.\n",
    "a=int(input(\"Enter First Number:\"))\n",
    "b=int(input(\"Enter Second Number:\"))\n",
    "c=int(input(\"Enter Third Number:\"))\n",
    "if a>b and a<c or a<b and a>c:\n",
    "    print(a, \"is the Second Largest Number\")\n",
    "if b>a and b<c or b<a and b>c:\n",
    "    print(b, \" is the Second Largest Number\")\n",
    "if c>a and c<b or c<a and c>b:\n",
    "    print(c, \" is the Second Largest Number\")"
   ]
  },
  {
   "cell_type": "code",
   "execution_count": 6,
   "id": "fd32f909-d870-437c-b15d-3ed8aa140b13",
   "metadata": {},
   "outputs": [
    {
     "name": "stdin",
     "output_type": "stream",
     "text": [
      "Enter the marked price:₹ 5000\n"
     ]
    },
    {
     "name": "stdout",
     "output_type": "stream",
     "text": [
      "Total Net Amount is:₹ 4500.0\n"
     ]
    }
   ],
   "source": [
    "#Program to enter the marked price from the user and calculate the Net amount.\n",
    "#Successfully Executed.\n",
    "a=int(input(\"Enter the marked price:₹\"))\n",
    "if a>10000:\n",
    "    b=a*20/100\n",
    "    c=a-b\n",
    "    print(\"Total Net amount is:₹\",c)\n",
    "elif a>7000 and a<=10000:\n",
    "    d=a*15/100\n",
    "    e=a-d\n",
    "    print(\"Total Net Amount is:₹\",e)\n",
    "elif a<=7000:\n",
    "    f=a*10/100\n",
    "    g=a-f\n",
    "    print(\"Total Net Amount is:₹\",g)"
   ]
  },
  {
   "cell_type": "code",
   "execution_count": 7,
   "id": "255d1b58-7305-4301-9519-03f2bdb391da",
   "metadata": {},
   "outputs": [
    {
     "name": "stdin",
     "output_type": "stream",
     "text": [
      "Enter the marks of English: 85\n",
      "Enter the marks of Maths: 85\n",
      "Enter the marks of Science: 85\n",
      "Enter the marks of Social Studies: 85\n"
     ]
    },
    {
     "name": "stdout",
     "output_type": "stream",
     "text": [
      "Science Stream has been allocated to you.\n"
     ]
    }
   ],
   "source": [
    "#Accept the marks of English, Maths and Science,Social Studies Subject and display the stream allotted.\n",
    "#Successfully Executed\n",
    "English=int(input(\"Enter the marks of English:\"))\n",
    "Maths=int(input(\"Enter the marks of Maths:\"))\n",
    "Science=int(input(\"Enter the marks of Science:\"))\n",
    "Social_Studies=int(input(\"Enter the marks of Social Studies:\"))\n",
    "if English>80 and Maths>80 and Science>80 and Social_Studies>80:\n",
    "    print(\"Science Stream has been allocated to you.\")\n",
    "elif English>80 and Maths>80 and Science>50:\n",
    "    print(\"Commerce Stream has been allocated to you.\")\n",
    "elif English>80 and Social_Studies>80:\n",
    "    print(\"Humanities Stream has been allocated to you.\")"
   ]
  },
  {
   "cell_type": "code",
   "execution_count": 11,
   "id": "04e9c5f0-5c94-4427-b9ce-69c76ece0042",
   "metadata": {},
   "outputs": [
    {
     "name": "stdin",
     "output_type": "stream",
     "text": [
      "Enter the number: 625\n"
     ]
    },
    {
     "name": "stdout",
     "output_type": "stream",
     "text": [
      "Hello\n"
     ]
    }
   ],
   "source": [
    "#Program to display \"Hello\" if a number entered by a user is a multiple of 5, otherwise print \"Bye\".\n",
    "#Successfully Executed.\n",
    "a=int(input(\"Enter the number:\"))\n",
    "if a%5==0:\n",
    "    print(\"Hello\")\n",
    "else:\n",
    "    print(\"Bye\")"
   ]
  },
  {
   "cell_type": "code",
   "execution_count": 15,
   "id": "11bb0ce0-2d84-4d00-806b-336563a39209",
   "metadata": {},
   "outputs": [
    {
     "name": "stdin",
     "output_type": "stream",
     "text": [
      "Enter the number: 456\n"
     ]
    },
    {
     "name": "stdout",
     "output_type": "stream",
     "text": [
      "It is divisible by 3\n"
     ]
    }
   ],
   "source": [
    "#Program to check whether the last digit of the number(entered by user) is divisible by 3 or not.\n",
    "#Successfully Executed\n",
    "a=int(input(\"Enter the number:\"))\n",
    "last_digit=a%10\n",
    "if last_digit%3==0:\n",
    "    print(\"It is divisible by 3\")\n",
    "else:\n",
    "    print(\"It is not divisible by 3\")"
   ]
  },
  {
   "cell_type": "code",
   "execution_count": 14,
   "id": "6b10a4ea-ee8e-4340-bf75-07ab22d8738c",
   "metadata": {},
   "outputs": [
    {
     "name": "stdin",
     "output_type": "stream",
     "text": [
      "Enter the number: 456\n"
     ]
    },
    {
     "name": "stdout",
     "output_type": "stream",
     "text": [
      "456 is a 3 digit number.\n"
     ]
    }
   ],
   "source": [
    "#Program to check whether the number entered is 3 digit number or not.\n",
    "#Successfully Executed.\n",
    "a=int(input(\"Enter the number:\"))\n",
    "if a>99 and a<1000:\n",
    "    print(a,'is a 3 digit number.')\n",
    "else:\n",
    "    print(a,'is not a 3 digit number.')"
   ]
  }
 ],
 "metadata": {
  "kernelspec": {
   "display_name": "Python [conda env:base] *",
   "language": "python",
   "name": "conda-base-py"
  },
  "language_info": {
   "codemirror_mode": {
    "name": "ipython",
    "version": 3
   },
   "file_extension": ".py",
   "mimetype": "text/x-python",
   "name": "python",
   "nbconvert_exporter": "python",
   "pygments_lexer": "ipython3",
   "version": "3.13.5"
  }
 },
 "nbformat": 4,
 "nbformat_minor": 5
}
