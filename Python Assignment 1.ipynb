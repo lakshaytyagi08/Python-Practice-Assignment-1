{
 "cells": [
  {
   "cell_type": "code",
   "execution_count": null,
   "id": "40135ac8-9540-430e-8f08-8cabef519557",
   "metadata": {},
   "outputs": [],
   "source": [
    "#Q1. In the below elements which of them are values or an expression? eg:- values can beinteger or string and expressions will be mathematical operators.\n",
    "* - Multiplication operator\n",
    "'hello' - string\n",
    "-87.8 - integer\n",
    "- : Subtraction operator\n",
    "/ - Division operator\n",
    "+ - Addition operator\n",
    "6 - integer\n"
   ]
  },
  {
   "cell_type": "code",
   "execution_count": null,
   "id": "c96cb3a8-d546-44a3-adc0-d07c0a14f049",
   "metadata": {},
   "outputs": [],
   "source": [
    "# Q2. What is the difference between string and variable?\n",
    "String- It is a collection of characters and it is written inside the double quotes or single quotes.\n",
    "example: a= \"Ram\"\n",
    "Variable- Variable is used to store the value or used to store the data.\n",
    "example: A=24, here A is a variable in which 24 value is assigned. "
   ]
  },
  {
   "cell_type": "code",
   "execution_count": null,
   "id": "8f61ed11-10ce-44c1-af1b-6067bcd5072c",
   "metadata": {},
   "outputs": [],
   "source": [
    "# Q3. Describe three different data types.\n",
    "Three different data types are as follows:\n",
    "1)int-used to store the integer value whether it is positive or negative.\n",
    "2)float-used to store the decimal value like 78.6.\n",
    "3)str-used to store the string i.e; collection of chaaracters like 'sita'"
   ]
  },
  {
   "cell_type": "code",
   "execution_count": null,
   "id": "09f66d4d-f062-49c3-ab7e-8c24ca7161f9",
   "metadata": {},
   "outputs": [],
   "source": [
    "# Q4. What is an expression made up of? What do all expressions do?\n",
    "> An expression is made up of two things i.e; the operator and the value given by user.\n",
    "> An expression leads to the result or the final value.\n",
    "> For example: 4+3=7 | here 4 and 3 is a value and + is a operator which leads to the result 7."
   ]
  },
  {
   "cell_type": "code",
   "execution_count": null,
   "id": "25082e88-e115-4972-b457-b48771ec1e02",
   "metadata": {},
   "outputs": [],
   "source": [
    "# Q5. This assignment statements, like spam = 10. What is the difference between an expression and a statement?\n",
    ">Expression- Expression leads to a result and return a value.\n",
    ">Statement- Statement conatains an expression but doesn't return a value.\n",
    ">Example A=10 | This is a statement which states that value 10 is asssigned to a variable A"
   ]
  },
  {
   "cell_type": "code",
   "execution_count": 1,
   "id": "54455378-3689-49b7-91bd-ddff73aeeb3d",
   "metadata": {},
   "outputs": [
    {
     "data": {
      "text/plain": [
       "23"
      ]
     },
     "execution_count": 1,
     "metadata": {},
     "output_type": "execute_result"
    }
   ],
   "source": [
    "# Q6. After running the following code, what does the variable bacon contain?\n",
    "bacon = 22\n",
    "bacon + 1"
   ]
  },
  {
   "cell_type": "code",
   "execution_count": 2,
   "id": "bfc6e018-aa27-4028-ba1f-d96b76c9f91e",
   "metadata": {},
   "outputs": [
    {
     "data": {
      "text/plain": [
       "'spamspamspam'"
      ]
     },
     "execution_count": 2,
     "metadata": {},
     "output_type": "execute_result"
    }
   ],
   "source": [
    "# Q7. What should the values of the following two terms be?\n",
    "'spam' + 'spamspam'\n",
    "'spam' * 3"
   ]
  },
  {
   "cell_type": "code",
   "execution_count": null,
   "id": "464d3107-9a8b-4e8b-b6e4-3248852642ce",
   "metadata": {},
   "outputs": [],
   "source": [
    "# Q8. Why is eggs a valid variable name while 100 is invalid?\n",
    ">eggs variable is starting with the letter e which is a valid rule in python.\n",
    "> 100 is invalid because we cannot declare the variable starting with the number or digit which is invalid in python. "
   ]
  },
  {
   "cell_type": "code",
   "execution_count": null,
   "id": "3011cece-be8c-4975-9e19-8d6f434bcf6f",
   "metadata": {},
   "outputs": [],
   "source": [
    "# Q9. What three functions can be used to get the integer, floating-point number, or stringversion of a value?\n",
    "Three functions can be used to get the integer, floating-point number, or stringversion of a value are given below:\n",
    "1)int\n",
    "2)float\n",
    "3)str"
   ]
  },
  {
   "cell_type": "code",
   "execution_count": 3,
   "id": "128c4651-16f2-41af-8715-3642ca877eea",
   "metadata": {},
   "outputs": [
    {
     "ename": "TypeError",
     "evalue": "can only concatenate str (not \"int\") to str",
     "output_type": "error",
     "traceback": [
      "\u001b[1;31m---------------------------------------------------------------------------\u001b[0m",
      "\u001b[1;31mTypeError\u001b[0m                                 Traceback (most recent call last)",
      "Cell \u001b[1;32mIn[3], line 2\u001b[0m\n\u001b[0;32m      1\u001b[0m \u001b[38;5;66;03m# Q 10. Why does this expression cause an error? How can you fix it?\u001b[39;00m\n\u001b[1;32m----> 2\u001b[0m \u001b[38;5;124m'\u001b[39m\u001b[38;5;124mI have eaten\u001b[39m\u001b[38;5;124m'\u001b[39m \u001b[38;5;241m+\u001b[39m \u001b[38;5;241m99\u001b[39m \u001b[38;5;241m+\u001b[39m \u001b[38;5;124m'\u001b[39m\u001b[38;5;124mburritos.\u001b[39m\u001b[38;5;124m'\u001b[39m\n",
      "\u001b[1;31mTypeError\u001b[0m: can only concatenate str (not \"int\") to str"
     ]
    }
   ],
   "source": [
    "# Q 10. Why does this expression cause an error? How can you fix it?\n",
    "'I have eaten' + 99 + 'burritos.'\n",
    ">The above statement is giving error because python can only add string to string.\n",
    ">We can resolve this problem by converting the integer 99 into a string"
   ]
  },
  {
   "cell_type": "code",
   "execution_count": 4,
   "id": "840e707f-513c-4138-a7be-5911859a8f53",
   "metadata": {},
   "outputs": [
    {
     "data": {
      "text/plain": [
       "'I have eaten 99 burritos.'"
      ]
     },
     "execution_count": 4,
     "metadata": {},
     "output_type": "execute_result"
    }
   ],
   "source": [
    "'I have eaten ' + str(99) + ' burritos.'"
   ]
  }
 ],
 "metadata": {
  "kernelspec": {
   "display_name": "Python [conda env:base] *",
   "language": "python",
   "name": "conda-base-py"
  },
  "language_info": {
   "codemirror_mode": {
    "name": "ipython",
    "version": 3
   },
   "file_extension": ".py",
   "mimetype": "text/x-python",
   "name": "python",
   "nbconvert_exporter": "python",
   "pygments_lexer": "ipython3",
   "version": "3.13.5"
  }
 },
 "nbformat": 4,
 "nbformat_minor": 5
}
