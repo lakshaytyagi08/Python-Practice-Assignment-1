{
 "cells": [
  {
   "cell_type": "markdown",
   "id": "74fe6249-5d11-4303-aab4-180f2d880823",
   "metadata": {},
   "source": [
    "PYTHON STRING METHODS"
   ]
  },
  {
   "cell_type": "code",
   "execution_count": 2,
   "id": "20c3739e-ac36-4926-872d-3f9fa1ecb1fb",
   "metadata": {},
   "outputs": [
    {
     "data": {
      "text/plain": [
       "'Anaconda'"
      ]
     },
     "execution_count": 2,
     "metadata": {},
     "output_type": "execute_result"
    }
   ],
   "source": [
    "#str.capitalize()\n",
    "a='anaconda'\n",
    "a.capitalize()"
   ]
  },
  {
   "cell_type": "code",
   "execution_count": 3,
   "id": "36dbca20-9ec2-4aee-9727-7384965aa690",
   "metadata": {},
   "outputs": [
    {
     "data": {
      "text/plain": [
       "'javascript'"
      ]
     },
     "execution_count": 3,
     "metadata": {},
     "output_type": "execute_result"
    }
   ],
   "source": [
    "#str.casefold()\n",
    "b='javascript'\n",
    "b.casefold()"
   ]
  },
  {
   "cell_type": "code",
   "execution_count": 2,
   "id": "f3aa8630-7581-455c-8190-80f0f4af4d1c",
   "metadata": {},
   "outputs": [
    {
     "data": {
      "text/plain": [
       "'     rubyonrails     '"
      ]
     },
     "execution_count": 2,
     "metadata": {},
     "output_type": "execute_result"
    }
   ],
   "source": [
    "#str.center(width[, fillchar])\n",
    "c='rubyonrails'\n",
    "c.center(21)"
   ]
  },
  {
   "cell_type": "code",
   "execution_count": 6,
   "id": "af7cc669-85ca-4785-94e6-24bf9a045187",
   "metadata": {},
   "outputs": [
    {
     "data": {
      "text/plain": [
       "3"
      ]
     },
     "execution_count": 6,
     "metadata": {},
     "output_type": "execute_result"
    }
   ],
   "source": [
    "#str.count(sub[, start[, end]])\n",
    "d='interpreter'\n",
    "d.count('e')"
   ]
  },
  {
   "cell_type": "code",
   "execution_count": 7,
   "id": "55cec7d9-9386-481f-88b8-840f23cd9b18",
   "metadata": {},
   "outputs": [
    {
     "data": {
      "text/plain": [
       "6"
      ]
     },
     "execution_count": 7,
     "metadata": {},
     "output_type": "execute_result"
    }
   ],
   "source": [
    "#str.count(sub[, start[, end]])\n",
    "e='pneumonoultramicroscopicsilicovolcanoconiosis'\n",
    "e.count('i', 5, 44)"
   ]
  },
  {
   "cell_type": "code",
   "execution_count": 8,
   "id": "117ece7b-9e34-409e-85e0-e638f363f691",
   "metadata": {},
   "outputs": [
    {
     "data": {
      "text/plain": [
       "True"
      ]
     },
     "execution_count": 8,
     "metadata": {},
     "output_type": "execute_result"
    }
   ],
   "source": [
    "#str.endswith(suffix[, start[, end]])\n",
    "g='Malayalam'\n",
    "g.endswith('m')"
   ]
  },
  {
   "cell_type": "code",
   "execution_count": 10,
   "id": "5e7e183d-57a7-4eb7-bb54-7d2f9c615e24",
   "metadata": {},
   "outputs": [
    {
     "data": {
      "text/plain": [
       "True"
      ]
     },
     "execution_count": 10,
     "metadata": {},
     "output_type": "execute_result"
    }
   ],
   "source": [
    "#str.endswith(suffix[, start[, end]])\n",
    "g='Malayalam'\n",
    "g.endswith('a', 1, 6)"
   ]
  },
  {
   "cell_type": "code",
   "execution_count": 20,
   "id": "82fbd549-6e93-4a49-b34d-10eace365a4c",
   "metadata": {},
   "outputs": [
    {
     "data": {
      "text/plain": [
       "'What is your name?'"
      ]
     },
     "execution_count": 20,
     "metadata": {},
     "output_type": "execute_result"
    }
   ],
   "source": [
    "#str.expandtabs(tabsize=8)\n",
    "h='What\\tis\\tyour\\tname?'\n",
    "h.expandtabs(tabsize=1)"
   ]
  },
  {
   "cell_type": "code",
   "execution_count": 28,
   "id": "f75ad673-fbef-48c6-ba35-360248f32197",
   "metadata": {},
   "outputs": [
    {
     "data": {
      "text/plain": [
       "1"
      ]
     },
     "execution_count": 28,
     "metadata": {},
     "output_type": "execute_result"
    }
   ],
   "source": [
    "#str.find(sub[, start[, end]])\n",
    "i='Freelancer'\n",
    "i.find('r', 0, 6)"
   ]
  },
  {
   "cell_type": "code",
   "execution_count": 37,
   "id": "aad44bc4-c223-4fff-9247-057ebe17a87b",
   "metadata": {},
   "outputs": [
    {
     "data": {
      "text/plain": [
       "'Novascotia is beautiful'"
      ]
     },
     "execution_count": 37,
     "metadata": {},
     "output_type": "execute_result"
    }
   ],
   "source": [
    "#str.format(*args, **kwargs)\n",
    "j='Novascotia {}'\n",
    "j.format(\"is beautiful\")"
   ]
  },
  {
   "cell_type": "code",
   "execution_count": 40,
   "id": "69fd6624-7ae0-4ebf-becf-523992505fea",
   "metadata": {},
   "outputs": [
    {
     "data": {
      "text/plain": [
       "6"
      ]
     },
     "execution_count": 40,
     "metadata": {},
     "output_type": "execute_result"
    }
   ],
   "source": [
    "#str.index(sub[, start[, end]])\n",
    "k='Uttarakhand'\n",
    "k.index('k')"
   ]
  },
  {
   "cell_type": "code",
   "execution_count": 43,
   "id": "d7fd744d-cf8e-4cf1-832f-8fcbe52791f5",
   "metadata": {},
   "outputs": [
    {
     "data": {
      "text/plain": [
       "True"
      ]
     },
     "execution_count": 43,
     "metadata": {},
     "output_type": "execute_result"
    }
   ],
   "source": [
    "#str.isalnum()\n",
    "l=\"America\"\n",
    "l.isalnum()"
   ]
  },
  {
   "cell_type": "code",
   "execution_count": 44,
   "id": "0d510fa8-e5c9-4704-b0e4-54795957abd7",
   "metadata": {},
   "outputs": [
    {
     "data": {
      "text/plain": [
       "False"
      ]
     },
     "execution_count": 44,
     "metadata": {},
     "output_type": "execute_result"
    }
   ],
   "source": [
    "#str.isalpha()\n",
    "m='123456'\n",
    "m.isalpha()"
   ]
  },
  {
   "cell_type": "code",
   "execution_count": 45,
   "id": "22f49650-9a8f-458d-bb1b-0ea861d45ed9",
   "metadata": {},
   "outputs": [
    {
     "data": {
      "text/plain": [
       "False"
      ]
     },
     "execution_count": 45,
     "metadata": {},
     "output_type": "execute_result"
    }
   ],
   "source": [
    "#str.isascii()str.isascii()\n",
    "n=\"alphaê\"\n",
    "n.isascii()"
   ]
  },
  {
   "cell_type": "code",
   "execution_count": 46,
   "id": "3ed64373-00dc-455c-9780-235d2a388f26",
   "metadata": {},
   "outputs": [
    {
     "data": {
      "text/plain": [
       "True"
      ]
     },
     "execution_count": 46,
     "metadata": {},
     "output_type": "execute_result"
    }
   ],
   "source": [
    "#str.isascii()str.isascii()\n",
    "N=\"alpha\"\n",
    "N.isascii()"
   ]
  },
  {
   "cell_type": "code",
   "execution_count": 50,
   "id": "f950e713-e775-4f49-82bf-f5af55eb9731",
   "metadata": {},
   "outputs": [
    {
     "data": {
      "text/plain": [
       "True"
      ]
     },
     "execution_count": 50,
     "metadata": {},
     "output_type": "execute_result"
    }
   ],
   "source": [
    "#str.isdecimal()\n",
    "#(1234.6) gives false because decimal point is not allowed.\n",
    "#Integers are treated as decimals and they return true value.\n",
    "o='123456'\n",
    "o.isdecimal()"
   ]
  },
  {
   "cell_type": "code",
   "execution_count": 52,
   "id": "7bd37fcd-306d-4c6c-9b75-bba453f4517b",
   "metadata": {},
   "outputs": [
    {
     "data": {
      "text/plain": [
       "True"
      ]
     },
     "execution_count": 52,
     "metadata": {},
     "output_type": "execute_result"
    }
   ],
   "source": [
    "#str.isdigit()\n",
    "p='645966'\n",
    "p.isdigit()"
   ]
  },
  {
   "cell_type": "code",
   "execution_count": 54,
   "id": "818756d3-3592-4f2f-8e88-c11a4bb010ea",
   "metadata": {},
   "outputs": [
    {
     "data": {
      "text/plain": [
       "False"
      ]
     },
     "execution_count": 54,
     "metadata": {},
     "output_type": "execute_result"
    }
   ],
   "source": [
    "#str.isidentifier()\n",
    "#Returns false if it starts with a number or spaces or special characters or any other specific keyword.\n",
    "q='Germany'\n",
    "q.isidentifier()"
   ]
  },
  {
   "cell_type": "code",
   "execution_count": 55,
   "id": "a8d98eab-2108-47e3-8adb-8fb591dd3982",
   "metadata": {},
   "outputs": [
    {
     "data": {
      "text/plain": [
       "False"
      ]
     },
     "execution_count": 55,
     "metadata": {},
     "output_type": "execute_result"
    }
   ],
   "source": [
    "#str.islower()\n",
    "r='Russia'\n",
    "r.islower()"
   ]
  },
  {
   "cell_type": "code",
   "execution_count": 56,
   "id": "57428f17-826c-4d5e-bb3f-2c2c4ec5dd29",
   "metadata": {},
   "outputs": [
    {
     "data": {
      "text/plain": [
       "False"
      ]
     },
     "execution_count": 56,
     "metadata": {},
     "output_type": "execute_result"
    }
   ],
   "source": [
    "#str.isnumeric()\n",
    "#Returns true if all characters are numeric otheriwse false. \n",
    "s='456rest'\n",
    "s.isnumeric()"
   ]
  },
  {
   "cell_type": "code",
   "execution_count": 57,
   "id": "acc6aba1-56b4-440b-afa1-f1df35bb09d2",
   "metadata": {},
   "outputs": [
    {
     "data": {
      "text/plain": [
       "False"
      ]
     },
     "execution_count": 57,
     "metadata": {},
     "output_type": "execute_result"
    }
   ],
   "source": [
    "#str.isprintable()\n",
    "#Return False in case of Escape characters like \\n, \\r, \\t.\n",
    "t='United \\n States'\n",
    "t.isprintable()"
   ]
  },
  {
   "cell_type": "code",
   "execution_count": 58,
   "id": "1ac4a3ad-d665-47f4-8307-b91ef0cface8",
   "metadata": {},
   "outputs": [
    {
     "data": {
      "text/plain": [
       "False"
      ]
     },
     "execution_count": 58,
     "metadata": {},
     "output_type": "execute_result"
    }
   ],
   "source": [
    "#str.isspace()\n",
    "#Returns true in case of spaces only and Escape Characters.\n",
    "u='Republic South Africa'\n",
    "u.isspace()"
   ]
  },
  {
   "cell_type": "code",
   "execution_count": 59,
   "id": "878800cc-59df-43ca-9896-1bbc2d095c49",
   "metadata": {},
   "outputs": [
    {
     "data": {
      "text/plain": [
       "True"
      ]
     },
     "execution_count": 59,
     "metadata": {},
     "output_type": "execute_result"
    }
   ],
   "source": [
    "#str.istitle()\n",
    "#Returns true if the word or each word is starting with the uppercase letter and all other letters are in lower case \n",
    "#Return False in all other conditions except the above one.\n",
    "v='Spain'\n",
    "v.istitle()"
   ]
  },
  {
   "cell_type": "code",
   "execution_count": 26,
   "id": "e4297679-8679-4534-95d0-49ee39d130d1",
   "metadata": {},
   "outputs": [
    {
     "data": {
      "text/plain": [
       "True"
      ]
     },
     "execution_count": 26,
     "metadata": {},
     "output_type": "execute_result"
    }
   ],
   "source": [
    "#str.istitle()\n",
    "V=\"United States\"\n",
    "V.istitle()"
   ]
  },
  {
   "cell_type": "code",
   "execution_count": 61,
   "id": "69e02a5f-1f23-411d-bf87-a5bfed29b596",
   "metadata": {},
   "outputs": [
    {
     "data": {
      "text/plain": [
       "True"
      ]
     },
     "execution_count": 61,
     "metadata": {},
     "output_type": "execute_result"
    }
   ],
   "source": [
    "#str.isupper()\n",
    "w='GEORGIA'\n",
    "w.isupper()"
   ]
  },
  {
   "cell_type": "code",
   "execution_count": 62,
   "id": "83f2c709-16bb-46bc-92ed-eaa06a8e4038",
   "metadata": {},
   "outputs": [
    {
     "name": "stdout",
     "output_type": "stream",
     "text": [
      "UCruiserrCruiserbCruiseraCruisern\n"
     ]
    }
   ],
   "source": [
    "#str.join(iterable)\n",
    "#All elements must be strings.\n",
    "x='Urban'\n",
    "print('Cruiser'.join(x))"
   ]
  },
  {
   "cell_type": "code",
   "execution_count": 2,
   "id": "68fe9a54-5b52-4ebf-9212-82470c0be8e3",
   "metadata": {},
   "outputs": [
    {
     "data": {
      "text/plain": [
       "'science'"
      ]
     },
     "execution_count": 2,
     "metadata": {},
     "output_type": "execute_result"
    }
   ],
   "source": [
    "#str.lower()\n",
    "z='Science'\n",
    "z.lower()"
   ]
  },
  {
   "cell_type": "code",
   "execution_count": 7,
   "id": "d0f77ed1-3894-4d4b-92a7-4513de4a57da",
   "metadata": {},
   "outputs": [
    {
     "data": {
      "text/plain": [
       "'Health first'"
      ]
     },
     "execution_count": 7,
     "metadata": {},
     "output_type": "execute_result"
    }
   ],
   "source": [
    "#str.lstrip([chars])\n",
    "#Remove whitespaces and characters from the left side\n",
    "Z='-----Health first'\n",
    "Z.lstrip('-')"
   ]
  },
  {
   "cell_type": "code",
   "execution_count": 12,
   "id": "0caf9398-5631-4e14-95ac-68abb2ec17a7",
   "metadata": {},
   "outputs": [
    {
     "data": {
      "text/plain": [
       "{116: 109}"
      ]
     },
     "execution_count": 12,
     "metadata": {},
     "output_type": "execute_result"
    }
   ],
   "source": [
    "#str.maketrans(x, y=None, z=None)\n",
    "Y='Altimetrik'\n",
    "Y.maketrans('t', 'm')"
   ]
  },
  {
   "cell_type": "code",
   "execution_count": 15,
   "id": "a9b3081d-b416-491e-883b-45d9145d2350",
   "metadata": {},
   "outputs": [
    {
     "data": {
      "text/plain": [
       "('Nor', 't', 'h America')"
      ]
     },
     "execution_count": 15,
     "metadata": {},
     "output_type": "execute_result"
    }
   ],
   "source": [
    "#str.partition(sep)\n",
    "#Makes the separation of characters.\n",
    "aa='North America'\n",
    "aa.partition('t')"
   ]
  },
  {
   "cell_type": "code",
   "execution_count": 16,
   "id": "e98f464a-07bc-4b4b-9c66-6b5d7c3364b9",
   "metadata": {},
   "outputs": [
    {
     "data": {
      "text/plain": [
       "'Old tsaffosd'"
      ]
     },
     "execution_count": 16,
     "metadata": {},
     "output_type": "execute_result"
    }
   ],
   "source": [
    "#str.replace(old, new[, count])\n",
    "bb='Old trafford'\n",
    "bb.replace('r', 's')"
   ]
  },
  {
   "cell_type": "code",
   "execution_count": 18,
   "id": "79b21a55-9cd5-4b2b-97d9-45c0db762695",
   "metadata": {},
   "outputs": [
    {
     "data": {
      "text/plain": [
       "8"
      ]
     },
     "execution_count": 18,
     "metadata": {},
     "output_type": "execute_result"
    }
   ],
   "source": [
    "#str.rfind(sub[, start[, end]])\n",
    "#Returns the highest index of the string.\n",
    "cc='Ahemdabad'\n",
    "cc.rfind('d')"
   ]
  },
  {
   "cell_type": "code",
   "execution_count": 20,
   "id": "77f1e1c7-f0b2-4595-9b5e-a152e82486fe",
   "metadata": {},
   "outputs": [
    {
     "data": {
      "text/plain": [
       "False"
      ]
     },
     "execution_count": 20,
     "metadata": {},
     "output_type": "execute_result"
    }
   ],
   "source": [
    "#str.startswith(prefix[, start[, end]])\n",
    "dd='Spain'\n",
    "dd.startswith('s')"
   ]
  },
  {
   "cell_type": "code",
   "execution_count": 21,
   "id": "bdb19c02-fe2f-431f-9ca5-9b11c7cedbea",
   "metadata": {},
   "outputs": [
    {
     "data": {
      "text/plain": [
       "True"
      ]
     },
     "execution_count": 21,
     "metadata": {},
     "output_type": "execute_result"
    }
   ],
   "source": [
    "#str.endswith(prefix[, start[, end]])\n",
    "ee='Argentina'\n",
    "ee.endswith('a')"
   ]
  },
  {
   "cell_type": "code",
   "execution_count": 22,
   "id": "78da7ba3-b8ab-4216-8b50-d25546b4e06b",
   "metadata": {},
   "outputs": [
    {
     "data": {
      "text/plain": [
       "'Mexico'"
      ]
     },
     "execution_count": 22,
     "metadata": {},
     "output_type": "execute_result"
    }
   ],
   "source": [
    "#str.title()\n",
    "#Make the first character of the string Uppercase.\n",
    "ff='mexico'\n",
    "ff.title()"
   ]
  },
  {
   "cell_type": "code",
   "execution_count": 23,
   "id": "0ea95078-b576-4c4c-9619-92075d233de7",
   "metadata": {},
   "outputs": [
    {
     "data": {
      "text/plain": [
       "'PORTUGAL'"
      ]
     },
     "execution_count": 23,
     "metadata": {},
     "output_type": "execute_result"
    }
   ],
   "source": [
    "#str.swapcase()\n",
    "#It converts the lowercase string into uppercase and vice-versa.\n",
    "gg='portugal'\n",
    "gg.swapcase()"
   ]
  },
  {
   "cell_type": "code",
   "execution_count": 24,
   "id": "1cb039b4-99b1-4e3d-82c9-609705485c2f",
   "metadata": {},
   "outputs": [
    {
     "data": {
      "text/plain": [
       "'GREEN FLAG'"
      ]
     },
     "execution_count": 24,
     "metadata": {},
     "output_type": "execute_result"
    }
   ],
   "source": [
    "#str.upper()\n",
    "hh='green flag'\n",
    "hh.upper()"
   ]
  },
  {
   "cell_type": "code",
   "execution_count": null,
   "id": "32e43576-b99b-4a75-b989-50be50e94de5",
   "metadata": {},
   "outputs": [],
   "source": []
  }
 ],
 "metadata": {
  "kernelspec": {
   "display_name": "Python [conda env:base] *",
   "language": "python",
   "name": "conda-base-py"
  },
  "language_info": {
   "codemirror_mode": {
    "name": "ipython",
    "version": 3
   },
   "file_extension": ".py",
   "mimetype": "text/x-python",
   "name": "python",
   "nbconvert_exporter": "python",
   "pygments_lexer": "ipython3",
   "version": "3.13.5"
  }
 },
 "nbformat": 4,
 "nbformat_minor": 5
}
